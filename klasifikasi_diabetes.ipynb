{
 "cells": [
  {
   "cell_type": "code",
   "execution_count": 1,
   "metadata": {},
   "outputs": [],
   "source": [
    "import csv\n",
    "import pandas as pd"
   ]
  },
  {
   "cell_type": "markdown",
   "metadata": {},
   "source": [
    "Mengolah Data training"
   ]
  },
  {
   "cell_type": "code",
   "execution_count": 2,
   "metadata": {},
   "outputs": [],
   "source": [
    "df = pd.read_csv(\"data_training.csv\")"
   ]
  },
  {
   "cell_type": "code",
   "execution_count": 3,
   "metadata": {},
   "outputs": [
    {
     "data": {
      "text/html": [
       "<div>\n",
       "<style scoped>\n",
       "    .dataframe tbody tr th:only-of-type {\n",
       "        vertical-align: middle;\n",
       "    }\n",
       "\n",
       "    .dataframe tbody tr th {\n",
       "        vertical-align: top;\n",
       "    }\n",
       "\n",
       "    .dataframe thead th {\n",
       "        text-align: right;\n",
       "    }\n",
       "</style>\n",
       "<table border=\"1\" class=\"dataframe\">\n",
       "  <thead>\n",
       "    <tr style=\"text-align: right;\">\n",
       "      <th></th>\n",
       "      <th>Age</th>\n",
       "      <th>Gender</th>\n",
       "      <th>Polyuria</th>\n",
       "      <th>Polydipsia</th>\n",
       "      <th>sudden weight loss</th>\n",
       "      <th>weakness</th>\n",
       "      <th>Polyphagia</th>\n",
       "      <th>Genital thrush</th>\n",
       "      <th>visual blurring</th>\n",
       "      <th>Itching</th>\n",
       "      <th>Irritability</th>\n",
       "      <th>delayed healing</th>\n",
       "      <th>partial paresis</th>\n",
       "      <th>muscle stiffness</th>\n",
       "      <th>Alopecia</th>\n",
       "      <th>Obesity</th>\n",
       "      <th>class</th>\n",
       "    </tr>\n",
       "  </thead>\n",
       "  <tbody>\n",
       "    <tr>\n",
       "      <th>0</th>\n",
       "      <td>40</td>\n",
       "      <td>Male</td>\n",
       "      <td>No</td>\n",
       "      <td>Yes</td>\n",
       "      <td>No</td>\n",
       "      <td>Yes</td>\n",
       "      <td>No</td>\n",
       "      <td>No</td>\n",
       "      <td>No</td>\n",
       "      <td>Yes</td>\n",
       "      <td>No</td>\n",
       "      <td>Yes</td>\n",
       "      <td>No</td>\n",
       "      <td>Yes</td>\n",
       "      <td>Yes</td>\n",
       "      <td>Yes</td>\n",
       "      <td>Positive</td>\n",
       "    </tr>\n",
       "    <tr>\n",
       "      <th>1</th>\n",
       "      <td>58</td>\n",
       "      <td>Male</td>\n",
       "      <td>No</td>\n",
       "      <td>No</td>\n",
       "      <td>No</td>\n",
       "      <td>Yes</td>\n",
       "      <td>No</td>\n",
       "      <td>No</td>\n",
       "      <td>Yes</td>\n",
       "      <td>No</td>\n",
       "      <td>No</td>\n",
       "      <td>No</td>\n",
       "      <td>Yes</td>\n",
       "      <td>No</td>\n",
       "      <td>Yes</td>\n",
       "      <td>No</td>\n",
       "      <td>Positive</td>\n",
       "    </tr>\n",
       "    <tr>\n",
       "      <th>2</th>\n",
       "      <td>41</td>\n",
       "      <td>Male</td>\n",
       "      <td>Yes</td>\n",
       "      <td>No</td>\n",
       "      <td>No</td>\n",
       "      <td>Yes</td>\n",
       "      <td>Yes</td>\n",
       "      <td>No</td>\n",
       "      <td>No</td>\n",
       "      <td>Yes</td>\n",
       "      <td>No</td>\n",
       "      <td>Yes</td>\n",
       "      <td>No</td>\n",
       "      <td>Yes</td>\n",
       "      <td>Yes</td>\n",
       "      <td>No</td>\n",
       "      <td>Positive</td>\n",
       "    </tr>\n",
       "    <tr>\n",
       "      <th>3</th>\n",
       "      <td>45</td>\n",
       "      <td>Male</td>\n",
       "      <td>No</td>\n",
       "      <td>No</td>\n",
       "      <td>Yes</td>\n",
       "      <td>Yes</td>\n",
       "      <td>Yes</td>\n",
       "      <td>Yes</td>\n",
       "      <td>No</td>\n",
       "      <td>Yes</td>\n",
       "      <td>No</td>\n",
       "      <td>Yes</td>\n",
       "      <td>No</td>\n",
       "      <td>No</td>\n",
       "      <td>No</td>\n",
       "      <td>No</td>\n",
       "      <td>Positive</td>\n",
       "    </tr>\n",
       "    <tr>\n",
       "      <th>4</th>\n",
       "      <td>60</td>\n",
       "      <td>Male</td>\n",
       "      <td>Yes</td>\n",
       "      <td>Yes</td>\n",
       "      <td>Yes</td>\n",
       "      <td>Yes</td>\n",
       "      <td>Yes</td>\n",
       "      <td>No</td>\n",
       "      <td>Yes</td>\n",
       "      <td>Yes</td>\n",
       "      <td>Yes</td>\n",
       "      <td>Yes</td>\n",
       "      <td>Yes</td>\n",
       "      <td>Yes</td>\n",
       "      <td>Yes</td>\n",
       "      <td>Yes</td>\n",
       "      <td>Positive</td>\n",
       "    </tr>\n",
       "  </tbody>\n",
       "</table>\n",
       "</div>"
      ],
      "text/plain": [
       "   Age Gender Polyuria Polydipsia sudden weight loss weakness Polyphagia  \\\n",
       "0   40   Male       No        Yes                 No      Yes         No   \n",
       "1   58   Male       No         No                 No      Yes         No   \n",
       "2   41   Male      Yes         No                 No      Yes        Yes   \n",
       "3   45   Male       No         No                Yes      Yes        Yes   \n",
       "4   60   Male      Yes        Yes                Yes      Yes        Yes   \n",
       "\n",
       "  Genital thrush visual blurring Itching Irritability delayed healing  \\\n",
       "0             No              No     Yes           No             Yes   \n",
       "1             No             Yes      No           No              No   \n",
       "2             No              No     Yes           No             Yes   \n",
       "3            Yes              No     Yes           No             Yes   \n",
       "4             No             Yes     Yes          Yes             Yes   \n",
       "\n",
       "  partial paresis muscle stiffness Alopecia Obesity     class  \n",
       "0              No              Yes      Yes     Yes  Positive  \n",
       "1             Yes               No      Yes      No  Positive  \n",
       "2              No              Yes      Yes      No  Positive  \n",
       "3              No               No       No      No  Positive  \n",
       "4             Yes              Yes      Yes     Yes  Positive  "
      ]
     },
     "execution_count": 3,
     "metadata": {},
     "output_type": "execute_result"
    }
   ],
   "source": [
    "df.head()"
   ]
  },
  {
   "cell_type": "code",
   "execution_count": 4,
   "metadata": {},
   "outputs": [],
   "source": [
    "global yes_positive \n",
    "yes_positive=[]\n",
    "global no_positive\n",
    "no_positive=[]\n",
    "global yes_negative\n",
    "yes_negative=[]\n",
    "global no_negative\n",
    "no_negative=[]\n",
    "global age_positive\n",
    "age_positive=[]\n",
    "global age_negative\n",
    "age_negative=[]\n",
    "\n",
    "global prob_yespositive\n",
    "prob_yespositive=[]\n",
    "global prob_yesnegative\n",
    "prob_yesnegative=[]\n",
    "global prob_nopositive\n",
    "prob_nopositive=[]\n",
    "global prob_nonegative\n",
    "prob_nonegative=[]\n",
    "\n",
    "global prob_agepos\n",
    "prob_agepos=[]\n",
    "global prob_ageneg\n",
    "prob_ageneg=[]\n",
    "global col_newage\n",
    "col_newage=[]"
   ]
  },
  {
   "cell_type": "code",
   "execution_count": null,
   "metadata": {},
   "outputs": [],
   "source": []
  },
  {
   "cell_type": "code",
   "execution_count": 5,
   "metadata": {},
   "outputs": [],
   "source": [
    "def umur (kolom,array):\n",
    "    for a in range(len(col_age)):\n",
    "        if kolom[a]<20:\n",
    "            remaja=\"remaja\"\n",
    "            array.append(remaja)\n",
    "        elif kolom[a]>60:\n",
    "            manula=\"manula\"\n",
    "            array.append(manula)\n",
    "        elif kolom[a]<=60 and kolom[a]>=20:\n",
    "            dewasa=\"dewasa\"\n",
    "            array.append(dewasa)\n",
    "       \n",
    "            \n",
    "        \n",
    "                    "
   ]
  },
  {
   "cell_type": "code",
   "execution_count": 6,
   "metadata": {},
   "outputs": [],
   "source": [
    "col_age = df['Age'].tolist()\n",
    "col_gender = df['Gender'].tolist()\n",
    "col_polyuria = df['Polyuria'].tolist()\n",
    "col_polydipsia = df['Polydipsia'].tolist()\n",
    "col_sudden_weight_loss = df['sudden weight loss'].tolist()\n",
    "\n",
    "col_weakness = df['weakness'].tolist()\n",
    "col_polyphagia = df['Polyphagia'].tolist()\n",
    "col_genital_thrush = df['Genital thrush'].tolist()\n",
    "col_visual_blurring = df['visual blurring'].tolist()\n",
    "col_itching = df['Itching'].tolist()\n",
    "\n",
    "col_irritability = df['Irritability'].tolist()\n",
    "col_delayed_healing = df['delayed healing'].tolist()\n",
    "col_partial_paresis = df['partial paresis'].tolist()\n",
    "col_muscle_stiffness = df['muscle stiffness'].tolist()\n",
    "col_alopecia = df['Alopecia'].tolist()\n",
    "\n",
    "col_obesity = df['Obesity'].tolist()\n",
    "col_class= df['class'].tolist()"
   ]
  },
  {
   "cell_type": "code",
   "execution_count": 7,
   "metadata": {},
   "outputs": [
    {
     "name": "stdout",
     "output_type": "stream",
     "text": [
      "['dewasa', 'dewasa', 'dewasa', 'dewasa', 'dewasa', 'dewasa', 'dewasa', 'manula', 'manula', 'manula', 'dewasa', 'dewasa', 'dewasa', 'manula', 'dewasa', 'dewasa', 'dewasa', 'manula', 'manula', 'dewasa', 'manula', 'dewasa', 'dewasa', 'dewasa', 'dewasa', 'dewasa', 'dewasa', 'dewasa', 'dewasa', 'dewasa', 'dewasa', 'dewasa', 'dewasa', 'dewasa', 'dewasa', 'dewasa', 'dewasa', 'manula', 'dewasa', 'dewasa', 'dewasa', 'dewasa', 'dewasa', 'dewasa', 'dewasa', 'dewasa', 'dewasa', 'dewasa', 'dewasa', 'dewasa', 'dewasa', 'dewasa', 'dewasa', 'dewasa', 'dewasa', 'dewasa', 'manula', 'dewasa', 'dewasa', 'dewasa', 'manula', 'dewasa', 'dewasa', 'dewasa', 'dewasa', 'dewasa', 'dewasa', 'dewasa', 'dewasa', 'dewasa', 'dewasa', 'dewasa', 'manula', 'dewasa', 'dewasa', 'dewasa', 'dewasa', 'dewasa', 'dewasa', 'dewasa', 'dewasa', 'dewasa', 'dewasa', 'dewasa', 'dewasa', 'dewasa', 'dewasa', 'dewasa', 'manula', 'dewasa', 'dewasa', 'dewasa', 'dewasa', 'dewasa', 'dewasa', 'dewasa', 'dewasa', 'dewasa', 'dewasa', 'dewasa', 'dewasa', 'manula', 'manula', 'manula', 'manula', 'manula', 'dewasa', 'dewasa', 'dewasa', 'dewasa', 'dewasa', 'dewasa', 'manula', 'manula', 'dewasa', 'dewasa', 'dewasa', 'dewasa', 'manula', 'dewasa', 'dewasa', 'dewasa', 'dewasa', 'dewasa', 'dewasa', 'dewasa', 'manula', 'dewasa', 'dewasa', 'dewasa', 'dewasa', 'dewasa', 'dewasa', 'remaja', 'dewasa', 'manula', 'dewasa', 'dewasa', 'dewasa', 'dewasa', 'dewasa', 'manula', 'dewasa', 'dewasa', 'manula', 'manula', 'dewasa', 'dewasa', 'dewasa', 'dewasa', 'dewasa', 'dewasa', 'dewasa', 'dewasa', 'manula', 'dewasa', 'dewasa', 'dewasa', 'dewasa', 'dewasa', 'dewasa', 'manula', 'dewasa', 'dewasa', 'dewasa', 'dewasa', 'dewasa', 'dewasa', 'dewasa', 'dewasa', 'dewasa', 'dewasa', 'dewasa', 'manula', 'dewasa', 'dewasa', 'dewasa', 'dewasa', 'dewasa', 'dewasa', 'dewasa', 'dewasa', 'dewasa', 'dewasa', 'dewasa', 'manula', 'manula', 'manula', 'manula', 'manula', 'dewasa', 'dewasa', 'manula', 'dewasa', 'dewasa', 'dewasa', 'manula', 'manula', 'dewasa', 'manula', 'dewasa', 'dewasa', 'dewasa', 'dewasa', 'dewasa', 'manula', 'dewasa', 'dewasa', 'dewasa', 'dewasa', 'dewasa', 'dewasa', 'dewasa', 'dewasa', 'dewasa', 'dewasa', 'dewasa', 'manula', 'dewasa', 'dewasa', 'dewasa', 'dewasa', 'dewasa', 'dewasa', 'manula', 'dewasa', 'dewasa', 'dewasa', 'dewasa', 'dewasa', 'dewasa', 'dewasa', 'dewasa', 'dewasa', 'dewasa', 'dewasa', 'dewasa', 'manula', 'manula', 'dewasa', 'dewasa', 'manula', 'manula', 'dewasa', 'dewasa', 'dewasa', 'dewasa', 'dewasa', 'dewasa', 'dewasa', 'dewasa', 'dewasa', 'dewasa', 'dewasa', 'dewasa', 'dewasa', 'dewasa', 'dewasa', 'dewasa', 'manula', 'dewasa', 'dewasa', 'dewasa', 'dewasa', 'dewasa', 'dewasa', 'manula', 'dewasa', 'dewasa', 'dewasa', 'dewasa', 'dewasa', 'dewasa', 'dewasa', 'dewasa', 'manula', 'dewasa', 'dewasa', 'dewasa', 'dewasa', 'dewasa', 'dewasa', 'dewasa', 'dewasa', 'manula', 'dewasa', 'dewasa', 'dewasa', 'dewasa', 'dewasa', 'dewasa', 'dewasa', 'dewasa', 'dewasa', 'dewasa', 'dewasa', 'dewasa', 'dewasa', 'dewasa', 'dewasa', 'dewasa', 'dewasa', 'manula', 'dewasa', 'manula', 'dewasa', 'dewasa', 'dewasa', 'dewasa', 'dewasa', 'manula', 'dewasa', 'dewasa', 'dewasa', 'dewasa', 'dewasa', 'dewasa', 'dewasa', 'dewasa', 'dewasa', 'manula', 'dewasa', 'manula', 'dewasa', 'dewasa', 'dewasa', 'dewasa', 'dewasa', 'dewasa', 'dewasa', 'dewasa', 'dewasa', 'dewasa', 'dewasa', 'dewasa', 'dewasa', 'dewasa', 'dewasa', 'dewasa', 'dewasa', 'dewasa', 'dewasa', 'dewasa', 'dewasa', 'manula', 'dewasa', 'manula', 'dewasa', 'dewasa', 'dewasa', 'dewasa', 'dewasa', 'manula', 'dewasa', 'dewasa', 'dewasa', 'dewasa', 'dewasa', 'dewasa', 'dewasa', 'dewasa', 'dewasa', 'dewasa', 'manula', 'dewasa', 'dewasa', 'dewasa', 'dewasa', 'dewasa', 'dewasa', 'dewasa', 'dewasa', 'manula', 'dewasa', 'dewasa', 'dewasa', 'dewasa', 'dewasa', 'dewasa', 'manula', 'dewasa', 'dewasa', 'manula', 'manula', 'dewasa', 'dewasa', 'dewasa', 'dewasa', 'dewasa', 'dewasa', 'dewasa', 'dewasa', 'dewasa', 'dewasa', 'dewasa', 'dewasa', 'dewasa', 'dewasa', 'dewasa', 'manula', 'dewasa', 'dewasa', 'dewasa', 'dewasa', 'dewasa', 'dewasa', 'dewasa', 'dewasa', 'dewasa', 'dewasa', 'dewasa', 'dewasa', 'dewasa', 'dewasa', 'dewasa', 'dewasa', 'dewasa']\n"
     ]
    }
   ],
   "source": [
    "umur(col_age,col_newage)\n",
    "print (col_newage)"
   ]
  },
  {
   "cell_type": "code",
   "execution_count": 8,
   "metadata": {},
   "outputs": [],
   "source": [
    "def total (kolom,ynk,kelas,ync,array):\n",
    "    hasil=0\n",
    "    for a in range(len(col_gender)):\n",
    "        if kolom[a]==ynk and kelas[a] ==ync:\n",
    "            hasil=hasil+1\n",
    "    array.append(hasil)\n",
    "    "
   ]
  },
  {
   "cell_type": "code",
   "execution_count": 9,
   "metadata": {},
   "outputs": [],
   "source": [
    "total(col_newage,\"remaja\",col_class,\"Positive\",age_positive)\n",
    "total(col_newage,\"dewasa\",col_class,\"Positive\",age_positive)\n",
    "total(col_newage,\"manula\",col_class,\"Positive\",age_positive)\n",
    "\n",
    "total(col_newage,\"remaja\",col_class,\"Negative\",age_negative)\n",
    "total(col_newage,\"dewasa\",col_class,\"Negative\",age_negative)\n",
    "total(col_newage,\"manula\",col_class,\"Negative\",age_negative)"
   ]
  },
  {
   "cell_type": "code",
   "execution_count": null,
   "metadata": {},
   "outputs": [],
   "source": []
  },
  {
   "cell_type": "code",
   "execution_count": 10,
   "metadata": {},
   "outputs": [
    {
     "name": "stdout",
     "output_type": "stream",
     "text": [
      "[123, 201, 184, 151, 177, 154, 74, 141, 129, 92, 128, 156, 113, 67, 50]\n"
     ]
    }
   ],
   "source": [
    "total(col_gender,\"Male\",col_class,\"Positive\",yes_positive)\n",
    "total(col_polyuria,\"Yes\",col_class,\"Positive\",yes_positive)\n",
    "total(col_polydipsia,\"Yes\",col_class,\"Positive\",yes_positive)\n",
    "total(col_sudden_weight_loss,\"Yes\",col_class,\"Positive\",yes_positive)\n",
    "total(col_weakness,\"Yes\",col_class,\"Positive\",yes_positive)\n",
    "\n",
    "total(col_polyphagia,\"Yes\",col_class,\"Positive\",yes_positive)\n",
    "total(col_genital_thrush,\"Yes\",col_class,\"Positive\",yes_positive)\n",
    "total(col_visual_blurring,\"Yes\",col_class,\"Positive\",yes_positive)\n",
    "total(col_itching,\"Yes\",col_class,\"Positive\",yes_positive)\n",
    "total(col_irritability,\"Yes\",col_class,\"Positive\",yes_positive)\n",
    "\n",
    "total(col_delayed_healing,\"Yes\",col_class,\"Positive\",yes_positive)\n",
    "total(col_partial_paresis,\"Yes\",col_class,\"Positive\",yes_positive)\n",
    "total(col_muscle_stiffness,\"Yes\",col_class,\"Positive\",yes_positive)\n",
    "total(col_alopecia,\"Yes\",col_class,\"Positive\",yes_positive)\n",
    "total(col_obesity,\"Yes\",col_class,\"Positive\",yes_positive)\n",
    "\n",
    "print(yes_positive)"
   ]
  },
  {
   "cell_type": "code",
   "execution_count": 11,
   "metadata": {},
   "outputs": [
    {
     "name": "stdout",
     "output_type": "stream",
     "text": [
      "[135, 11, 8, 25, 69, 35, 26, 44, 76, 13, 66, 25, 46, 76, 22]\n"
     ]
    }
   ],
   "source": [
    "total(col_gender,\"Male\",col_class,\"Negative\",yes_negative)\n",
    "total(col_polyuria,\"Yes\",col_class,\"Negative\",yes_negative)\n",
    "total(col_polydipsia,\"Yes\",col_class,\"Negative\",yes_negative)\n",
    "total(col_sudden_weight_loss,\"Yes\",col_class,\"Negative\",yes_negative)\n",
    "total(col_weakness,\"Yes\",col_class,\"Negative\",yes_negative)\n",
    "\n",
    "total(col_polyphagia,\"Yes\",col_class,\"Negative\",yes_negative)\n",
    "total(col_genital_thrush,\"Yes\",col_class,\"Negative\",yes_negative)\n",
    "total(col_visual_blurring,\"Yes\",col_class,\"Negative\",yes_negative)\n",
    "total(col_itching,\"Yes\",col_class,\"Negative\",yes_negative)\n",
    "total(col_irritability,\"Yes\",col_class,\"Negative\",yes_negative)\n",
    "\n",
    "total(col_delayed_healing,\"Yes\",col_class,\"Negative\",yes_negative)\n",
    "total(col_partial_paresis,\"Yes\",col_class,\"Negative\",yes_negative)\n",
    "total(col_muscle_stiffness,\"Yes\",col_class,\"Negative\",yes_negative)\n",
    "total(col_alopecia,\"Yes\",col_class,\"Negative\",yes_negative)\n",
    "total(col_obesity,\"Yes\",col_class,\"Negative\",yes_negative)\n",
    "\n",
    "print(yes_negative)"
   ]
  },
  {
   "cell_type": "code",
   "execution_count": 12,
   "metadata": {},
   "outputs": [
    {
     "name": "stdout",
     "output_type": "stream",
     "text": [
      "[142, 64, 81, 114, 88, 111, 191, 124, 136, 173, 137, 109, 152, 198, 215]\n"
     ]
    }
   ],
   "source": [
    "\n",
    "total(col_gender,\"Female\",col_class,\"Positive\",no_positive)\n",
    "total(col_polyuria,\"No\",col_class,\"Positive\",no_positive)\n",
    "total(col_polydipsia,\"No\",col_class,\"Positive\",no_positive)\n",
    "total(col_sudden_weight_loss,\"No\",col_class,\"Positive\",no_positive)\n",
    "total(col_weakness,\"No\",col_class,\"Positive\",no_positive)\n",
    "\n",
    "total(col_polyphagia,\"No\",col_class,\"Positive\",no_positive)\n",
    "total(col_genital_thrush,\"No\",col_class,\"Positive\",no_positive)\n",
    "total(col_visual_blurring,\"No\",col_class,\"Positive\",no_positive)\n",
    "total(col_itching,\"No\",col_class,\"Positive\",no_positive)\n",
    "total(col_irritability,\"No\",col_class,\"Positive\",no_positive)\n",
    "\n",
    "total(col_delayed_healing,\"No\",col_class,\"Positive\",no_positive)\n",
    "total(col_partial_paresis,\"No\",col_class,\"Positive\",no_positive)\n",
    "total(col_muscle_stiffness,\"No\",col_class,\"Positive\",no_positive)\n",
    "total(col_alopecia,\"No\",col_class,\"Positive\",no_positive)\n",
    "total(col_obesity,\"No\",col_class,\"Positive\",no_positive)\n",
    "\n",
    "print(no_positive)"
   ]
  },
  {
   "cell_type": "code",
   "execution_count": 13,
   "metadata": {},
   "outputs": [
    {
     "name": "stdout",
     "output_type": "stream",
     "text": [
      "[17, 141, 144, 127, 83, 117, 126, 108, 76, 139, 86, 127, 106, 76, 130]\n"
     ]
    }
   ],
   "source": [
    "total(col_gender,\"Female\",col_class,\"Negative\",no_negative)\n",
    "total(col_polyuria,\"No\",col_class,\"Negative\",no_negative)\n",
    "total(col_polydipsia,\"No\",col_class,\"Negative\",no_negative)\n",
    "total(col_sudden_weight_loss,\"No\",col_class,\"Negative\",no_negative)\n",
    "total(col_weakness,\"No\",col_class,\"Negative\",no_negative)\n",
    "\n",
    "total(col_polyphagia,\"No\",col_class,\"Negative\",no_negative)\n",
    "total(col_genital_thrush,\"No\",col_class,\"Negative\",no_negative)\n",
    "total(col_visual_blurring,\"No\",col_class,\"Negative\",no_negative)\n",
    "total(col_itching,\"No\",col_class,\"Negative\",no_negative)\n",
    "total(col_irritability,\"No\",col_class,\"Negative\",no_negative)\n",
    "\n",
    "total(col_delayed_healing,\"No\",col_class,\"Negative\",no_negative)\n",
    "total(col_partial_paresis,\"No\",col_class,\"Negative\",no_negative)\n",
    "total(col_muscle_stiffness,\"No\",col_class,\"Negative\",no_negative)\n",
    "total(col_alopecia,\"No\",col_class,\"Negative\",no_negative)\n",
    "total(col_obesity,\"No\",col_class,\"Negative\",no_negative)\n",
    "\n",
    "print(no_negative)"
   ]
  },
  {
   "cell_type": "markdown",
   "metadata": {},
   "source": [
    "mencari probability masing-masing atribute"
   ]
  },
  {
   "cell_type": "code",
   "execution_count": 14,
   "metadata": {},
   "outputs": [],
   "source": [
    "def prob_age (array_1,array_2):\n",
    "    probability_1=0\n",
    "    probability_2=0\n",
    "    probability_3=0\n",
    "\n",
    "    total=array_1[0]+array_1[1]+array_1[2] \n",
    "    probability_1=array_1[0]/total\n",
    "    probability_2=array_1[1]/total\n",
    "    probability_3=array_1[2]/total\n",
    "    \n",
    "    array_2.append(probability_1)\n",
    "    array_2.append(probability_2)\n",
    "    array_2.append(probability_3)\n",
    "    \n",
    "   "
   ]
  },
  {
   "cell_type": "code",
   "execution_count": 15,
   "metadata": {},
   "outputs": [],
   "source": [
    "def prob (array_1,array_2,array_3,array_4,length):\n",
    "    probability_1=0\n",
    "    probability_2=0\n",
    "    for a in range(len(length)): \n",
    "        total=array_1[a]+array_2[a]  \n",
    "        probability_1=array_1[a]/total\n",
    "        probability_2=array_2[a]/total\n",
    "        array_3.append(probability_1)\n",
    "        array_4.append(probability_2)\n",
    "   "
   ]
  },
  {
   "cell_type": "code",
   "execution_count": 16,
   "metadata": {
    "scrolled": true
   },
   "outputs": [],
   "source": [
    "prob_age(age_positive,prob_agepos)\n",
    "prob_age(age_negative,prob_ageneg)\n",
    "\n",
    "prob(yes_positive,no_positive,prob_yespositive,prob_nopositive,yes_positive)\n",
    "prob(yes_negative,no_negative,prob_yesnegative,prob_nonegative,yes_negative)\n"
   ]
  },
  {
   "cell_type": "code",
   "execution_count": 17,
   "metadata": {},
   "outputs": [
    {
     "name": "stdout",
     "output_type": "stream",
     "text": [
      "417\n",
      "0.3645083932853717\n",
      "0.6354916067146283\n"
     ]
    }
   ],
   "source": [
    "total_data=yes_positive[0]+no_positive[0]+yes_negative[0]+no_negative[0]\n",
    "print(total_data)\n",
    "probability_jumlah1=(yes_negative[0]+no_negative[0])/total_data\n",
    "probability_jumlah2=(yes_positive[0]+no_positive[0])/total_data\n",
    "print(probability_jumlah1)\n",
    "print(probability_jumlah2)"
   ]
  },
  {
   "cell_type": "code",
   "execution_count": 18,
   "metadata": {},
   "outputs": [],
   "source": [
    "atribute_positive=[\"remaja\",\"dewasa\",\"manula\",]"
   ]
  },
  {
   "cell_type": "code",
   "execution_count": 20,
   "metadata": {},
   "outputs": [
    {
     "name": "stdout",
     "output_type": "stream",
     "text": [
      "[0.0037735849056603774, 0.8188679245283019, 0.17735849056603772]\n",
      "[0.0, 0.9013157894736842, 0.09868421052631579]\n",
      "[0.4641509433962264, 0.7584905660377359, 0.6943396226415094, 0.569811320754717, 0.6679245283018868, 0.5811320754716981, 0.2792452830188679, 0.5320754716981132, 0.4867924528301887, 0.3471698113207547, 0.4830188679245283, 0.5886792452830188, 0.42641509433962266, 0.2528301886792453, 0.18867924528301888]\n",
      "[0.5358490566037736, 0.24150943396226415, 0.30566037735849055, 0.43018867924528303, 0.3320754716981132, 0.4188679245283019, 0.720754716981132, 0.4679245283018868, 0.5132075471698113, 0.6528301886792452, 0.5169811320754717, 0.41132075471698115, 0.5735849056603773, 0.7471698113207547, 0.8113207547169812]\n",
      "[0.8881578947368421, 0.07236842105263158, 0.05263157894736842, 0.16447368421052633, 0.45394736842105265, 0.23026315789473684, 0.17105263157894737, 0.2894736842105263, 0.5, 0.08552631578947369, 0.4342105263157895, 0.16447368421052633, 0.3026315789473684, 0.5, 0.14473684210526316]\n",
      "[0.1118421052631579, 0.9276315789473685, 0.9473684210526315, 0.8355263157894737, 0.5460526315789473, 0.7697368421052632, 0.8289473684210527, 0.7105263157894737, 0.5, 0.9144736842105263, 0.5657894736842105, 0.8355263157894737, 0.6973684210526315, 0.5, 0.8552631578947368]\n"
     ]
    }
   ],
   "source": [
    "print(prob_agepos)\n",
    "print(prob_ageneg)\n",
    "print(prob_yespositive)\n",
    "print(prob_nopositive)\n",
    "print(prob_yesnegative)\n",
    "print(prob_nonegative)"
   ]
  },
  {
   "cell_type": "markdown",
   "metadata": {},
   "source": [
    "Testing"
   ]
  },
  {
   "cell_type": "code",
   "execution_count": 21,
   "metadata": {},
   "outputs": [],
   "source": [
    "df = pd.read_csv(\"data_training.csv\")"
   ]
  },
  {
   "cell_type": "code",
   "execution_count": 22,
   "metadata": {},
   "outputs": [
    {
     "data": {
      "text/html": [
       "<div>\n",
       "<style scoped>\n",
       "    .dataframe tbody tr th:only-of-type {\n",
       "        vertical-align: middle;\n",
       "    }\n",
       "\n",
       "    .dataframe tbody tr th {\n",
       "        vertical-align: top;\n",
       "    }\n",
       "\n",
       "    .dataframe thead th {\n",
       "        text-align: right;\n",
       "    }\n",
       "</style>\n",
       "<table border=\"1\" class=\"dataframe\">\n",
       "  <thead>\n",
       "    <tr style=\"text-align: right;\">\n",
       "      <th></th>\n",
       "      <th>Age</th>\n",
       "      <th>Gender</th>\n",
       "      <th>Polyuria</th>\n",
       "      <th>Polydipsia</th>\n",
       "      <th>sudden weight loss</th>\n",
       "      <th>weakness</th>\n",
       "      <th>Polyphagia</th>\n",
       "      <th>Genital thrush</th>\n",
       "      <th>visual blurring</th>\n",
       "      <th>Itching</th>\n",
       "      <th>Irritability</th>\n",
       "      <th>delayed healing</th>\n",
       "      <th>partial paresis</th>\n",
       "      <th>muscle stiffness</th>\n",
       "      <th>Alopecia</th>\n",
       "      <th>Obesity</th>\n",
       "      <th>class</th>\n",
       "    </tr>\n",
       "  </thead>\n",
       "  <tbody>\n",
       "    <tr>\n",
       "      <th>0</th>\n",
       "      <td>40</td>\n",
       "      <td>Male</td>\n",
       "      <td>No</td>\n",
       "      <td>Yes</td>\n",
       "      <td>No</td>\n",
       "      <td>Yes</td>\n",
       "      <td>No</td>\n",
       "      <td>No</td>\n",
       "      <td>No</td>\n",
       "      <td>Yes</td>\n",
       "      <td>No</td>\n",
       "      <td>Yes</td>\n",
       "      <td>No</td>\n",
       "      <td>Yes</td>\n",
       "      <td>Yes</td>\n",
       "      <td>Yes</td>\n",
       "      <td>Positive</td>\n",
       "    </tr>\n",
       "    <tr>\n",
       "      <th>1</th>\n",
       "      <td>58</td>\n",
       "      <td>Male</td>\n",
       "      <td>No</td>\n",
       "      <td>No</td>\n",
       "      <td>No</td>\n",
       "      <td>Yes</td>\n",
       "      <td>No</td>\n",
       "      <td>No</td>\n",
       "      <td>Yes</td>\n",
       "      <td>No</td>\n",
       "      <td>No</td>\n",
       "      <td>No</td>\n",
       "      <td>Yes</td>\n",
       "      <td>No</td>\n",
       "      <td>Yes</td>\n",
       "      <td>No</td>\n",
       "      <td>Positive</td>\n",
       "    </tr>\n",
       "    <tr>\n",
       "      <th>2</th>\n",
       "      <td>41</td>\n",
       "      <td>Male</td>\n",
       "      <td>Yes</td>\n",
       "      <td>No</td>\n",
       "      <td>No</td>\n",
       "      <td>Yes</td>\n",
       "      <td>Yes</td>\n",
       "      <td>No</td>\n",
       "      <td>No</td>\n",
       "      <td>Yes</td>\n",
       "      <td>No</td>\n",
       "      <td>Yes</td>\n",
       "      <td>No</td>\n",
       "      <td>Yes</td>\n",
       "      <td>Yes</td>\n",
       "      <td>No</td>\n",
       "      <td>Positive</td>\n",
       "    </tr>\n",
       "    <tr>\n",
       "      <th>3</th>\n",
       "      <td>45</td>\n",
       "      <td>Male</td>\n",
       "      <td>No</td>\n",
       "      <td>No</td>\n",
       "      <td>Yes</td>\n",
       "      <td>Yes</td>\n",
       "      <td>Yes</td>\n",
       "      <td>Yes</td>\n",
       "      <td>No</td>\n",
       "      <td>Yes</td>\n",
       "      <td>No</td>\n",
       "      <td>Yes</td>\n",
       "      <td>No</td>\n",
       "      <td>No</td>\n",
       "      <td>No</td>\n",
       "      <td>No</td>\n",
       "      <td>Positive</td>\n",
       "    </tr>\n",
       "    <tr>\n",
       "      <th>4</th>\n",
       "      <td>60</td>\n",
       "      <td>Male</td>\n",
       "      <td>Yes</td>\n",
       "      <td>Yes</td>\n",
       "      <td>Yes</td>\n",
       "      <td>Yes</td>\n",
       "      <td>Yes</td>\n",
       "      <td>No</td>\n",
       "      <td>Yes</td>\n",
       "      <td>Yes</td>\n",
       "      <td>Yes</td>\n",
       "      <td>Yes</td>\n",
       "      <td>Yes</td>\n",
       "      <td>Yes</td>\n",
       "      <td>Yes</td>\n",
       "      <td>Yes</td>\n",
       "      <td>Positive</td>\n",
       "    </tr>\n",
       "  </tbody>\n",
       "</table>\n",
       "</div>"
      ],
      "text/plain": [
       "   Age Gender Polyuria Polydipsia sudden weight loss weakness Polyphagia  \\\n",
       "0   40   Male       No        Yes                 No      Yes         No   \n",
       "1   58   Male       No         No                 No      Yes         No   \n",
       "2   41   Male      Yes         No                 No      Yes        Yes   \n",
       "3   45   Male       No         No                Yes      Yes        Yes   \n",
       "4   60   Male      Yes        Yes                Yes      Yes        Yes   \n",
       "\n",
       "  Genital thrush visual blurring Itching Irritability delayed healing  \\\n",
       "0             No              No     Yes           No             Yes   \n",
       "1             No             Yes      No           No              No   \n",
       "2             No              No     Yes           No             Yes   \n",
       "3            Yes              No     Yes           No             Yes   \n",
       "4             No             Yes     Yes          Yes             Yes   \n",
       "\n",
       "  partial paresis muscle stiffness Alopecia Obesity     class  \n",
       "0              No              Yes      Yes     Yes  Positive  \n",
       "1             Yes               No      Yes      No  Positive  \n",
       "2              No              Yes      Yes      No  Positive  \n",
       "3              No               No       No      No  Positive  \n",
       "4             Yes              Yes      Yes     Yes  Positive  "
      ]
     },
     "execution_count": 22,
     "metadata": {},
     "output_type": "execute_result"
    }
   ],
   "source": [
    "df.head()    "
   ]
  },
  {
   "cell_type": "code",
   "execution_count": null,
   "metadata": {},
   "outputs": [],
   "source": [
    "col_age = df['Age'].tolist()\n",
    "col_gender = df['Gender'].tolist()\n",
    "col_polyuria = df['Polyuria'].tolist()\n",
    "col_polydipsia = df['Polydipsia'].tolist()\n",
    "col_sudden_weight_loss = df['sudden weight loss'].tolist()\n",
    "\n",
    "col_weakness = df['weakness'].tolist()\n",
    "col_polyphagia = df['Polyphagia'].tolist()\n",
    "col_genital_thrush = df['Genital thrush'].tolist()\n",
    "col_visual_blurring = df['visual blurring'].tolist()\n",
    "col_itching = df['Itching'].tolist()\n",
    "\n",
    "col_irritability = df['Irritability'].tolist()\n",
    "col_delayed_healing = df['delayed healing'].tolist()\n",
    "col_partial_paresis = df['partial paresis'].tolist()\n",
    "col_muscle_stiffness = df['muscle stiffness'].tolist()\n",
    "col_alopecia = df['Alopecia'].tolist()\n",
    "\n",
    "col_obesity = df['Obesity'].tolist()\n",
    "col_class= df['class'].tolist()"
   ]
  },
  {
   "cell_type": "code",
   "execution_count": null,
   "metadata": {},
   "outputs": [],
   "source": [
    "for a in range(len(col_age)):\n",
    "    if col_age[a]<20:\n",
    "        age_a=prob_agepos[0]\n",
    "        age_b=prob_ageneg[0]\n",
    "    elif col_age[a]>60:\n",
    "        age_a=prob_agepos[2]\n",
    "        age_b=prob_ageneg[2]\n",
    "    elif col_age <=60 and col_age[a>=20]:\n",
    "        age_a=prob_agepos[1]\n",
    "        age_b=prob_ageneg[1]\n",
    "    \n",
    "    if col_gender[a]==\"Male\":\n",
    "        gender_a=prob_yespositive[0]\n",
    "        gender_b=prob_yesnegative[0]\n",
    "    elif col_gender[a]==\"Female\":\n",
    "        gender_a=prob_nopositive[0]\n",
    "        gender_b=prob_nonegative[0]\n",
    "        \n",
    "    if col_polyura[a]==\"Yes\":\n",
    "        polyura_a=prob_yespositive[0]\n",
    "        polyura_b=prob_yesnegative[0]\n",
    "    elif col_polyura[a]==\"No\":\n",
    "        polyura_a=prob_nopositive[0]\n",
    "        polyura_b=prob_nonegative[0]\n",
    "        \n",
    "    \n",
    "                \n",
    "\n",
    "    \n",
    "    \n",
    "       "
   ]
  }
 ],
 "metadata": {
  "kernelspec": {
   "display_name": "Python 3",
   "language": "python",
   "name": "python3"
  },
  "language_info": {
   "codemirror_mode": {
    "name": "ipython",
    "version": 3
   },
   "file_extension": ".py",
   "mimetype": "text/x-python",
   "name": "python",
   "nbconvert_exporter": "python",
   "pygments_lexer": "ipython3",
   "version": "3.8.3"
  }
 },
 "nbformat": 4,
 "nbformat_minor": 4
}
